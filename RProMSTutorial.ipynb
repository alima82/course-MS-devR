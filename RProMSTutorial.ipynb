{
 "cells": [
  {
   "cell_type": "markdown",
   "metadata": {},
   "source": [
    "<font style=\"color:#68829E; font-family:calibri; font-size:36px\"> <b> MS Analysis with R: Progenesis Data </b> </font>"
   ]
  },
  {
   "cell_type": "markdown",
   "metadata": {},
   "source": [
    "<font style=\"color:black; font-family:calibri; font-size:15px\">\n",
    "Welcome to <i>R</i>, on HCC/Binder, through Jupyter. <br>\n",
    "\n",
    "<p style=\"margin-left: 2em\">\n",
    "<b><i>\"R is a free software environment for statistical computing and graphics\" </i></b><br>\n",
    "<a href=\"https://www.r-project.org/\"> www.r-project.org </a> <br><br>\n",
    "<b><i>\"The Jupyter Notebook is an open-source web application that allows you to create and share documents that contain live code, <br>\n",
    "equations, visualizations and narrative text\" </i></b><br>\n",
    "<a href=\"https://jupyter.org/\"> www.jupyter.org </a> <br><br>\n",
    "</p>\n",
    "\n",
    "The topic of this tutorial is exploration of MS data for new learners using commerical processing software, prior to statistical modelling. Content includes: internal standards (IS), sample/feature visualizations, feature filtration, normalization, missing values, quality (QA/QC), correction and correlation. <br> \n",
    "Steps described maybe sequentially or non-sequentially executed (dataset dependent). XXX <br><br>\n",
    "\n",
    "<i> Example Data </i> <br>\n",
    "Progenesis QI - user guide and tutorial data set @ <a href=\"http://www.nonlinear.com/progenesis/qi/v2.4/user-guide\"> www.nonlinear.com/progenesis/qi/v2.4/user-guide</a> (Ion Mobility HDMSe LC-MS). <br>\n",
    "( *simulated <i>Example Metadata</i> )\n",
    "</font>"
   ]
  },
  {
   "cell_type": "code",
   "execution_count": null,
   "metadata": {
    "collapsed": true
   },
   "outputs": [],
   "source": [
    "#lapply(.libPaths(), list.files) # print available/downloaded packages\n",
    "suppressMessages(library(ggplot2))\n",
    "suppressMessages(library(reshape2))\n",
    "#suppressMessages(library(pcaMethods))"
   ]
  },
  {
   "cell_type": "code",
   "execution_count": null,
   "metadata": {},
   "outputs": [],
   "source": [
    "setwd(\"./\") # directory (user input)\n",
    "getwd()"
   ]
  },
  {
   "cell_type": "code",
   "execution_count": null,
   "metadata": {},
   "outputs": [],
   "source": [
    "list.files(path=\".\", pattern=\".csv\") # detail '.CSVs' in directory"
   ]
  },
  {
   "cell_type": "code",
   "execution_count": null,
   "metadata": {
    "collapsed": true
   },
   "outputs": [],
   "source": [
    "#define PROGENESIS & METADATA files (user input)\n",
    "#iFileD <- \"QC_measurements.csv\"\n",
    "iFileD <- \"Progenesis_QI_Tutorial_HDMSe_Norm.csv\"\n",
    "#iFileD <- \"Progenesis_QI_Tutorial_HDMSe_Raw.csv\"\n",
    "\n",
    "#iFileM <- \"QC_metadata.csv\"\n",
    "iFileM <- \"Example_Metadata.csv\""
   ]
  },
  {
   "cell_type": "markdown",
   "metadata": {},
   "source": [
    "<font style=\"color:#68829E; font-family:calibri; font-size:29px\">\n",
    "<b> Processed Data </b>\n",
    "</font>\n",
    "<br>\n",
    "<font style=\"color:black; font-family:calibri; font-size:15px\">\n",
    "An output from Progenesis (Waters) will be a processed peak list - following detection, alignment, deconvolution (isotopes/adducts) - across samples with either unnormalized (raw) or normalized (Mean Log Ratio - MLR) expression/intensities. <br> \n",
    "Typically, each feature is described through a mass-to-charge (MZ in m/z) and retention time (RT in min) value. <br>\n",
    "</font>"
   ]
  },
  {
   "cell_type": "code",
   "execution_count": null,
   "metadata": {
    "collapsed": true
   },
   "outputs": [],
   "source": [
    "# ... open iFileD ...\n",
    "# ... rows = peaks / cols = samples ..."
   ]
  },
  {
   "cell_type": "code",
   "execution_count": null,
   "metadata": {
    "collapsed": true
   },
   "outputs": [],
   "source": [
    "labelRow <- 3; # label/header row (user input)"
   ]
  },
  {
   "cell_type": "markdown",
   "metadata": {},
   "source": [
    "<div class=\"alert alert-block alert-info\" style=\"font-style:italic; font-size:13px\">\n",
    "<b>#Tip 1.</b> Metrics, such as alignment scores, chromatographic peak width, normalization factors, are informative.\n",
    "</div>"
   ]
  },
  {
   "cell_type": "markdown",
   "metadata": {},
   "source": [
    "<font style=\"color:#68829E; font-family:calibri; font-size:29px\">\n",
    "<b> Data Importation </b>\n",
    "</font>\n",
    "<br>\n",
    "<font style=\"color:black; font-family:calibri; font-size:15px\">\n",
    "For ease, a Progenesis '.CSV' file should be accompanied with a manually created Metadata '.CSV' file (in the same order) that contains information pertinent to experimental design, sample collection, data acquisition and so on.\n",
    "</font>"
   ]
  },
  {
   "cell_type": "code",
   "execution_count": null,
   "metadata": {
    "collapsed": true
   },
   "outputs": [],
   "source": [
    "### PROGENESIS FILE (iFileD) ###"
   ]
  },
  {
   "cell_type": "code",
   "execution_count": null,
   "metadata": {},
   "outputs": [],
   "source": [
    "#?read.csv\n",
    "rawMSdata <- read.csv(file=iFileD, header=F, sep=\",\", stringsAsFactors=F);\n",
    "names(rawMSdata) = NULL; # remove names (aesthetics)\n",
    "\n",
    "head(rawMSdata)"
   ]
  },
  {
   "cell_type": "code",
   "execution_count": null,
   "metadata": {
    "collapsed": true
   },
   "outputs": [],
   "source": [
    "firstSample <- \"C_Norm_1\"; # user input\n",
    "firstFeature <- \"7.48_322.0672m/z\"; # user input\n",
    "\n",
    "startCol <- grep(firstSample, rawMSdata[labelRow, ]); # define column to index\n",
    "startRow <- grep(firstFeature, rawMSdata[, 1]); # define row to index"
   ]
  },
  {
   "cell_type": "code",
   "execution_count": null,
   "metadata": {},
   "outputs": [],
   "source": [
    "MSsamID <- unlist(rawMSdata[labelRow, c(startCol:dim(rawMSdata)[2])]); # CHECK samples\n",
    "head(MSsamID)\n",
    "\n",
    "MSfeatID <- unlist(rawMSdata[c(startRow:dim(rawMSdata)[1]), grep(\"Compound\", rawMSdata[labelRow, ])]); # CHECK features\n",
    "head(MSfeatID)"
   ]
  },
  {
   "cell_type": "code",
   "execution_count": null,
   "metadata": {},
   "outputs": [],
   "source": [
    "#subset MS data - intensities only\n",
    "MSdata <- rawMSdata[c(startRow:dim(rawMSdata)[1]), c(startCol:dim(rawMSdata)[2])];\n",
    "MSdata <- t(MSdata);\n",
    "\n",
    "dim(MSdata)"
   ]
  },
  {
   "cell_type": "code",
   "execution_count": null,
   "metadata": {},
   "outputs": [],
   "source": [
    "#convert MS data - numeric matrix\n",
    "MSmatrix <- matrix(as.numeric(MSdata), nrow=dim(MSdata)[1], ncol=dim(MSdata)[2]);\n",
    "colnames(MSmatrix) = t(MSfeatID);rownames(MSmatrix) = MSsamID;\n",
    "\n",
    "MSmatrix[1:5, 1:5]"
   ]
  },
  {
   "cell_type": "code",
   "execution_count": null,
   "metadata": {
    "collapsed": true
   },
   "outputs": [],
   "source": [
    "#extract descriptors (MZ, RT, PW - as.numeric)\n",
    "mzVal <- as.numeric(unlist( rawMSdata[c(startRow:dim(rawMSdata)[1]), grep(\"m/z\", rawMSdata[labelRow, ])] )); # MZ\n",
    "mzVal2 <- round(mzVal,4); # 4 dp\n",
    "\n",
    "rtVal <- as.numeric(unlist( rawMSdata[c(startRow:dim(rawMSdata)[1]), grep(\"Retention time\", rawMSdata[labelRow, ])] )); # RT\n",
    "rtVal2 <- rtVal*60; # seconds\n",
    "\n",
    "pkWidth <- as.numeric(unlist( rawMSdata[c(startRow:dim(rawMSdata)[1]), grep(\"peak width\", rawMSdata[labelRow, ])] )); # PW\n",
    "pkWidth2 <- pkWidth*60; # seconds"
   ]
  },
  {
   "cell_type": "code",
   "execution_count": null,
   "metadata": {
    "collapsed": true
   },
   "outputs": [],
   "source": [
    "### METADATA FILE (iFileM) ###"
   ]
  },
  {
   "cell_type": "code",
   "execution_count": null,
   "metadata": {},
   "outputs": [],
   "source": [
    "#?read.csv\n",
    "rawMetadata <- read.csv(file=iFileM, header=T, sep=\",\", stringsAsFactors=F);\n",
    "\n",
    "head(rawMetadata)"
   ]
  },
  {
   "cell_type": "code",
   "execution_count": null,
   "metadata": {},
   "outputs": [],
   "source": [
    "Metadata <- rawMetadata;\n",
    "dim(Metadata)"
   ]
  },
  {
   "cell_type": "code",
   "execution_count": null,
   "metadata": {
    "collapsed": true
   },
   "outputs": [],
   "source": [
    "#specify factors to plot/explore (global)\n",
    "xAxis <- as.numeric(Metadata[, \"RunOrder\"]); # factor_#1\n",
    "#xAxis <- as.factor(Metadata[, \"Class\"]);\n",
    "\n",
    "cGroup <- as.factor(Metadata[, \"Class\"]); # factor_#2"
   ]
  },
  {
   "cell_type": "markdown",
   "metadata": {},
   "source": [
    "<div class=\"alert alert-block alert-info\" style=\"font-style:italic; font-size:13px\">\n",
    "<b>#Tip 2.</b> Fill Metadata with anything and everything.\n",
    "</div>"
   ]
  },
  {
   "cell_type": "markdown",
   "metadata": {},
   "source": [
    "<font style=\"color:#68829E; font-family:calibri; font-size:29px\">\n",
    "<b> Internal Standard </b>\n",
    "</font>\n",
    "<br>\n",
    "<font style=\"color:black; font-family:calibri; font-size:15px\">\n",
    "For untargeted analysis, internal standards (IS) that span MZ and RT ranges should be incorporated into acquisition to assess chromatographic performance/alignment, sensitivity, mass stability & accuracy.\n",
    "</font>"
   ]
  },
  {
   "cell_type": "code",
   "execution_count": null,
   "metadata": {
    "collapsed": true
   },
   "outputs": [],
   "source": [
    "MSmatrixProc <- MSmatrix; # select MS data"
   ]
  },
  {
   "cell_type": "code",
   "execution_count": null,
   "metadata": {
    "collapsed": true
   },
   "outputs": [],
   "source": [
    "MSfeatIDProc <- MSfeatID; # ID\n",
    "mzValProc <- mzVal; # MZ\n",
    "rtValProc <- rtVal; # RT\n",
    "pkWidthProc <- pkWidth; # PW"
   ]
  },
  {
   "cell_type": "code",
   "execution_count": null,
   "metadata": {
    "collapsed": true
   },
   "outputs": [],
   "source": [
    "NoiseVal <- 0; # 'noise' estimate"
   ]
  },
  {
   "cell_type": "code",
   "execution_count": null,
   "metadata": {
    "collapsed": true
   },
   "outputs": [],
   "source": [
    "ISlsMZ <- c(121.0290, 121.0292, 139.0391, 121.0290, 121.0290, 121.0290, 121.0289) # MZ for IS\n",
    "ISlsRT <- c(7.12, 2.89, 3.24, 3.10, 9.48, 8.73, 8.63) # RT for IS\n",
    "IStolMZ <- 0.001; # MZ tolerance\n",
    "IStolRT <- 0.05; # RT tolerance "
   ]
  },
  {
   "cell_type": "code",
   "execution_count": null,
   "metadata": {},
   "outputs": [],
   "source": [
    "ISindex <- as.numeric(unlist(mapply(function(x,y){\n",
    "    which( mzValProc <= (x+IStolMZ) & mzValProc >= (x-IStolMZ) & rtValProc <= (y+IStolRT) & rtValProc >= (y-IStolRT) )\n",
    "}, x=ISlsMZ, y=ISlsRT))); # locate IS\n",
    "\n",
    "MSfeatIDProc[ISindex]"
   ]
  },
  {
   "cell_type": "code",
   "execution_count": null,
   "metadata": {},
   "outputs": [],
   "source": [
    "#subset IS features\n",
    "MSmatrixIS <- MSmatrixProc[,ISindex];\n",
    "dim(MSmatrixIS)"
   ]
  },
  {
   "cell_type": "code",
   "execution_count": null,
   "metadata": {
    "collapsed": true
   },
   "outputs": [],
   "source": [
    "#subset IS descriptors\n",
    "MSfeatIDIS <- MSfeatIDProc[ISindex]; # ID\n",
    "mzValIS <- mzValProc[ISindex]; # MZ\n",
    "rtValIS <- rtValProc[ISindex]; # RT\n",
    "pkWidthIS <- pkWidthProc[ISindex]; # PW"
   ]
  },
  {
   "cell_type": "code",
   "execution_count": null,
   "metadata": {},
   "outputs": [],
   "source": [
    "#ISlsMZ - mzValIS # MZ diff\n",
    "#ISlsRT - rtValIS # RT diff\n",
    "pkWidthIS*60"
   ]
  },
  {
   "cell_type": "code",
   "execution_count": null,
   "metadata": {},
   "outputs": [],
   "source": [
    "#remove IS features\n",
    "MSmatrixProc <- MSmatrixProc[,-ISindex];\n",
    "dim(MSmatrixProc)"
   ]
  },
  {
   "cell_type": "code",
   "execution_count": null,
   "metadata": {
    "collapsed": true
   },
   "outputs": [],
   "source": [
    "#remove IS descriptors\n",
    "MSfeatIDProc <- MSfeatIDProc[-ISindex]; # ID\n",
    "mzValProc <- mzValProc[-ISindex]; # MZ\n",
    "rtValProc <- rtValProc[-ISindex]; # RT\n",
    "pkWidthProc <- pkWidthProc[-ISindex]; # PW"
   ]
  },
  {
   "cell_type": "code",
   "execution_count": null,
   "metadata": {
    "collapsed": true
   },
   "outputs": [],
   "source": [
    "z1 <- melt( MSmatrixIS ); # transform & format\n",
    "#z1 <- melt( scale(MSmatrixIS, center=T, scale=apply(MSmatrixIS, 2, sd)) ); # transform & format\n",
    "\n",
    "#head(z1)"
   ]
  },
  {
   "cell_type": "code",
   "execution_count": null,
   "metadata": {},
   "outputs": [],
   "source": [
    "#structure data.frame for ggplot2\n",
    "plot.m <- data.frame(\n",
    "    x=rep(rownames(MSmatrixIS), times=length(ISindex)), \n",
    "    y=z1[,\"value\"],\n",
    "    u=rep(colnames(MSmatrixIS), each=dim(MSmatrixIS)[1]),\n",
    "    i=rep(cGroup, times=length(ISindex)),\n",
    "    j=rep(xAxis, times=length(ISindex))\n",
    ");\n",
    "\n",
    "head(plot.m)"
   ]
  },
  {
   "cell_type": "code",
   "execution_count": null,
   "metadata": {},
   "outputs": [],
   "source": [
    "p1 <- ggplot(data=plot.m, aes(x=j, y=y)) + \n",
    "    geom_hline(yintercept=NoiseVal, color=\"red\", size=0.5) +\n",
    "    geom_point(data=plot.m, aes(x=j, y=y, color=i), size=2) + ggtitle(\"\") +\n",
    "    geom_line(data=plot.m, linetype=2, size=0.50) +\n",
    "    facet_wrap(~u, scales=\"fixed\", nrow=4) +\n",
    "    labs(x=\"Spectra (RunOrder)\", y=\"Intensity\", color=\"Factor\") +\n",
    "    #guides(color = guide_legend(title.position=\"top\", title.hjust = 0.50)) +\n",
    "    theme(axis.title=element_text(face=\"bold\", size=9), axis.text=element_text(size=8),\n",
    "          strip.text=element_text(face=\"italic\", size=8),\n",
    "          legend.title=element_text(face=\"italic\", size=9), legend.position=\"top\", legend.text=element_text(size=8)\n",
    "    )\n",
    "p1"
   ]
  },
  {
   "cell_type": "markdown",
   "metadata": {},
   "source": [
    "<div class=\"alert alert-danger\" role=\"alert\" style=\"font-style:italic; font-size:13px\">\n",
    "<b>#Note!</b> With commerical processing software, checks regarding IS for untargeted analysis are somewhat limited. \n",
    "</div>"
   ]
  },
  {
   "cell_type": "markdown",
   "metadata": {},
   "source": [
    "<font style=\"color:#68829E; font-family:calibri; font-size:29px\">\n",
    "<b> Plots - Samples </b>\n",
    "</font>\n",
    "<br>\n",
    "<font style=\"color:black; font-family:calibri; font-size:15px\">\n",
    "Alongside sample acquistion, reference data should be acquired also, for example, pooled QC = assess run stability (intra-study), serial dilutions = assess feature linearity, long-term reference = assess assay stability (intra-laboratory). <br>\n",
    "Visualizations of sample-associated characteristics help optimize/prime MS data - for example, outlier exclusion, replicate correlation, QC, XXX\n",
    "</font>"
   ]
  },
  {
   "cell_type": "code",
   "execution_count": null,
   "metadata": {
    "collapsed": true
   },
   "outputs": [],
   "source": [
    "MSmat <- MSmatrix; # select MS data\n",
    "#MSmat <- MSmatrixProc; # select MS data"
   ]
  },
  {
   "cell_type": "code",
   "execution_count": null,
   "metadata": {
    "collapsed": true
   },
   "outputs": [],
   "source": [
    "#rowIndex <- grep(\"QC\",MSsamID); # only QC\n",
    "rowIndex <- c(1:dim(Metadata)[1]); # sample & QC\n",
    "\n",
    "MSmat <- MSmat[rowIndex,];\n",
    "xAxisT <- xAxis[rowIndex];\n",
    "cGroupT <- cGroup[rowIndex];"
   ]
  },
  {
   "cell_type": "code",
   "execution_count": null,
   "metadata": {
    "collapsed": true
   },
   "outputs": [],
   "source": [
    "#descriptive characteristics\n",
    "sTIC <- apply(MSmat, 1, sum); # summed intensities \n",
    "#mINT <- apply(MSmat, 1, mean); # mean intensities\n",
    "#sTIC <- apply(log2(MSmat+1), 1, sum); # log2 summed intensities \n",
    "mINT <- apply(log2(MSmat+1), 1, mean); # log2 mean intensities"
   ]
  },
  {
   "cell_type": "code",
   "execution_count": null,
   "metadata": {},
   "outputs": [],
   "source": [
    "#structure data.frame for ggplot2\n",
    "plot.m <- data.frame(\n",
    "    x=c(sTIC, mINT),\n",
    "    y=rep(c(\"sTIC\", \"mINT\"), each=dim(MSmat)[1]),\n",
    "    i=rep(cGroupT, times=2), \n",
    "    j=rep(xAxisT, times=2)\n",
    ");\n",
    "head(plot.m)"
   ]
  },
  {
   "cell_type": "code",
   "execution_count": null,
   "metadata": {},
   "outputs": [],
   "source": [
    "p1 <- ggplot(data=plot.m, aes(x=j, y=x, group=j, fill=i)) + \n",
    "    geom_bar(stat=\"identity\") + ggtitle(\"\") +\n",
    "    facet_wrap(~y, scales=\"free\", nrow=2) +\n",
    "    labs(x=\"Spectra (RunOrder)\", y=\"Characteristics (Intensity)\", fill=\"Factor\") +\n",
    "    theme(axis.title=element_text(face=\"bold\", size=9), axis.text=element_text(size=8),\n",
    "          strip.text=element_text(face=\"italic\", size=9),\n",
    "          legend.title=element_text(face=\"italic\", size=9), legend.text=element_text(size=8)\n",
    "    )\n",
    "p1"
   ]
  },
  {
   "cell_type": "code",
   "execution_count": null,
   "metadata": {
    "collapsed": true
   },
   "outputs": [],
   "source": [
    "z1 <- melt( scale(MSmat, center=T, scale=apply(MSmat, 2, sd)) ); # transform & format\n",
    "#z1 <- melt( log2(MSmat+1) ); # transform & format\n",
    "\n",
    "#head(z1)"
   ]
  },
  {
   "cell_type": "code",
   "execution_count": null,
   "metadata": {},
   "outputs": [],
   "source": [
    "#structure data.frame for ggplot2\n",
    "plot.m <- data.frame(\n",
    "    x=as.factor(z1[,\"Var1\"]), \n",
    "    y=z1[,\"value\"],\n",
    "    i=rep(cGroupT, times=dim(MSmat)[2]),\n",
    "    j=rep(xAxisT, times=dim(MSmat)[2])\n",
    ");\n",
    "\n",
    "head(plot.m)"
   ]
  },
  {
   "cell_type": "code",
   "execution_count": null,
   "metadata": {},
   "outputs": [],
   "source": [
    "p1 <- ggplot(data=plot.m, aes(x=j, y=y, group=j, fill=i)) + \n",
    "    geom_boxplot() + ggtitle(\"\") +\n",
    "    labs(x=\"Spectra (RunOrder)\", y=\"Distribution (Intensity)\", fill=\"Factor\") +\n",
    "    theme(axis.title=element_text(face=\"bold\", size=9), axis.text=element_text(size=8),\n",
    "          legend.title=element_text(face=\"italic\", size=9),  legend.position=\"top\", legend.text=element_text(size=8)\n",
    "    )\n",
    "p1"
   ]
  },
  {
   "cell_type": "code",
   "execution_count": null,
   "metadata": {
    "collapsed": true
   },
   "outputs": [],
   "source": [
    "#z1 <- melt( scale(MSmat, center=T, scale=apply(MSmat, 2, sd)) ); # transform & format\n",
    "z1 <- melt( log2(MSmat+1) ); # transform & format\n",
    "z1 <- z1 [grep(\"QC\",z1[,\"Var1\"]),]; # subset QC\n",
    "\n",
    "#head(z1)"
   ]
  },
  {
   "cell_type": "code",
   "execution_count": null,
   "metadata": {},
   "outputs": [],
   "source": [
    "refQC <- \"QC_1\";\n",
    "\n",
    "#structure data.frame for ggplot2\n",
    "plot.m <- data.frame(\n",
    "    x=rep(z1[ grep(refQC,z1[,\"Var1\"]),\"value\" ], each=length(unique(z1[,\"Var1\"]))),\n",
    "    y=z1[,\"value\"], a=z1[,\"Var1\"], b=z1[,\"Var2\"]\n",
    ");\n",
    "\n",
    "head(plot.m)"
   ]
  },
  {
   "cell_type": "code",
   "execution_count": null,
   "metadata": {},
   "outputs": [],
   "source": [
    "p1 <- ggplot(data=plot.m, aes(x=x, y=y)) + ggtitle(\"\") +\n",
    "    geom_point() + ggtitle(\"\") +\n",
    "    facet_wrap(~a, scales=\"free\", nrow=2) +\n",
    "    stat_smooth(method='lm', formula=y~x, se=TRUE, fullrange=TRUE, color=\"red\") +\n",
    "    labs(x=\"Intensities (log2) - Reference\", y=\"Intensities (log2) - Test\") +\n",
    "    theme(axis.title=element_text(face=\"bold\", size=9),\n",
    "          strip.text=element_text(face=\"italic\", size=9),\n",
    "          axis.text=element_text(size=8)\n",
    "    )\n",
    "p1"
   ]
  },
  {
   "cell_type": "code",
   "execution_count": null,
   "metadata": {
    "collapsed": true
   },
   "outputs": [],
   "source": [
    "#TIC overlay ... ?"
   ]
  },
  {
   "cell_type": "markdown",
   "metadata": {},
   "source": [
    "<div class=\"alert alert-block alert-info\" style=\"font-style:italic; font-size:13px\">\n",
    "<b>#Tip 3.</b> Blanks may be included for analysis also - with special attention during pre-processing.\n",
    "</div>"
   ]
  },
  {
   "cell_type": "markdown",
   "metadata": {},
   "source": [
    "<font style=\"color:#68829E; font-family:calibri; font-size:29px\">\n",
    "<b> Plots - Features </b>\n",
    "</font>\n",
    "<br>\n",
    "<font style=\"color:black; font-family:calibri; font-size:15px\">\n",
    "XXX. <br>\n",
    "Visualizations of feature-associated characteristics help optimize/prime MS data - for example, detection, variation, XXX \n",
    "</font>"
   ]
  },
  {
   "cell_type": "code",
   "execution_count": null,
   "metadata": {
    "collapsed": true
   },
   "outputs": [],
   "source": [
    "MSmat <- MSmatrix; # select MS data\n",
    "#MSmat <- MSmatrixProc; # select MS data\n",
    "\n",
    "MSfeatIDProc <- MSfeatID;mzValProc <- mzVal;rtValProc <- rtVal;pkWidthProc <- pkWidth;"
   ]
  },
  {
   "cell_type": "code",
   "execution_count": null,
   "metadata": {
    "collapsed": true
   },
   "outputs": [],
   "source": [
    "#rowIndex <- grep(\"QC\",MSsamID); # only QC\n",
    "rowIndex <- c(1:dim(Metadata)[1]); # sample & QC\n",
    "\n",
    "MSmat <- MSmat[rowIndex,];\n",
    "xAxisT <- xAxis[rowIndex];\n",
    "cGroupT <- as.factor(Metadata[rowIndex, \"Batch\"]); "
   ]
  },
  {
   "cell_type": "code",
   "execution_count": null,
   "metadata": {},
   "outputs": [],
   "source": [
    "#descriptive statistics\n",
    "Fsd <- apply(MSmat, 2, sd);c(min(Fsd), max(Fsd)) # standard deviation\n",
    "FminC <- apply(MSmat, 2, function(x){sum(x==0)});c(min(FminC), max(FminC)) # zero count"
   ]
  },
  {
   "cell_type": "code",
   "execution_count": null,
   "metadata": {
    "scrolled": true
   },
   "outputs": [],
   "source": [
    "#structure data.frame for ggplot2\n",
    "plot.m <- data.frame(\n",
    "    x=c(Fsd, FminC),\n",
    "    y=rep(c(\"Fsd\", \"FminC\"), each=dim(MSmat)[2]),\n",
    "    z=rep(c(1:dim(MSmat)[2]), times=2),\n",
    "    a=rep(mzValProc, times=2), \n",
    "    b=rep(rtValProc, times=2)\n",
    ");\n",
    "head(plot.m)"
   ]
  },
  {
   "cell_type": "code",
   "execution_count": null,
   "metadata": {
    "collapsed": true
   },
   "outputs": [],
   "source": [
    "range01 <- function(x){(x-min(x))/(max(x)-min(x))}\n",
    "\n",
    "plot.m$x[grep(\"Fsd\",plot.m$y)] <- range01(plot.m$x[grep(\"Fsd\",plot.m$y)]); # visualize between 0-1\n",
    "plot.m$x[grep(\"FminC\",plot.m$y)] <- range01(plot.m$x[grep(\"FminC\",plot.m$y)]); # visualize between 0-1"
   ]
  },
  {
   "cell_type": "code",
   "execution_count": null,
   "metadata": {},
   "outputs": [],
   "source": [
    "xby <- 500;\n",
    "xmid <- 0.25;\n",
    "\n",
    "p1 <- ggplot(data=plot.m, aes(x=z, y=x, color=x)) + \n",
    "    geom_point() + ggtitle(\"\") +\n",
    "    facet_wrap(~y, scales=\"free\", nrow=2) +\n",
    "    labs(x=\"Features (Index)\", y=\"Characteristics (Intensity)\", color=\"\") +\n",
    "    scale_colour_gradient2(midpoint=xmid, low=\"blue\", mid=\"white\", high=\"red\") +\n",
    "    scale_x_continuous(limits=c(0,max(plot.m$z)), breaks=seq(from=0,to=max(plot.m$z), by=xby)) +\n",
    "    theme(axis.title=element_text(face=\"bold\", size=9), axis.text=element_text(size=8),\n",
    "          strip.text=element_text(face=\"italic\", size=9),\n",
    "          legend.title=element_text(face=\"bold\", size=9), legend.position=\"top\", legend.text=element_text(size=6)\n",
    "    )\n",
    "p1"
   ]
  },
  {
   "cell_type": "code",
   "execution_count": null,
   "metadata": {
    "collapsed": true
   },
   "outputs": [],
   "source": [
    "col_index <- seq(from=1, to=12, by=1); # select few features (first) \n",
    "#col_index <- sample( c(1:dim(MSmatrix)[2]), 12, replace=FALSE ); # select few features (random)\n",
    "\n",
    "MSmat <- MSmat[,col_index];"
   ]
  },
  {
   "cell_type": "code",
   "execution_count": null,
   "metadata": {
    "collapsed": true
   },
   "outputs": [],
   "source": [
    "z1 <- melt( MSmat ); # transform & format\n",
    "#z1 <- melt( scale(MSmat, center=T, scale=apply(MSmat, 2, sd)) ); # transform & format\n",
    "\n",
    "#head(z1)"
   ]
  },
  {
   "cell_type": "code",
   "execution_count": null,
   "metadata": {},
   "outputs": [],
   "source": [
    "#structure data.frame for ggplot2\n",
    "plot.m <- data.frame(\n",
    "    x=rep(rownames(MSmat), times=length(col_index)), \n",
    "    y=z1[,\"value\"],\n",
    "    u=rep(colnames(MSmat), each=dim(MSmat)[1]),\n",
    "    i=rep(cGroupT, times=length(col_index)),\n",
    "    j=rep(xAxisT, times=length(col_index))\n",
    ");\n",
    "\n",
    "head(plot.m)"
   ]
  },
  {
   "cell_type": "code",
   "execution_count": null,
   "metadata": {},
   "outputs": [],
   "source": [
    "p1 <- ggplot(data=plot.m, aes(x=j, y=y, color=i)) +\n",
    "    geom_hline(yintercept=0, color=\"black\", linetype=1, size=0.50) +\n",
    "    geom_point(size=2) + ggtitle(\"\") +\n",
    "    geom_line(data=plot.m,aes(linetype=i), size=0.50) +\n",
    "    facet_wrap(~u, scales=\"free_y\", nrow=3) +\n",
    "    labs(x=\"Spectra (RunOrder)\", y=\"Intensity\", color=\"Factor\", linetype=\"Factor\") +\n",
    "    theme(axis.title=element_text(face=\"bold\", size=9), axis.text=element_text(size=8),\n",
    "          strip.text=element_text(face=\"italic\", size=8),\n",
    "          legend.title=element_text(face=\"italic\", size=9), legend.position=\"top\", legend.text=element_text(size=8)\n",
    "    )\n",
    "p1"
   ]
  },
  {
   "cell_type": "markdown",
   "metadata": {},
   "source": [
    "<font style=\"color:#68829E; font-family:calibri; font-size:29px\">\n",
    "<b> Feature Filtration </b>\n",
    "</font>\n",
    "<br>\n",
    "<font style=\"color:black; font-family:calibri; font-size:15px\">\n",
    "Multiple methods exist to help reduce data and preserve reliable peaks only - <br>\n",
    "<i>1.</i> Minimum Fraction - peak presence (detection rate) using class/group information. <br>\n",
    "<i>2.</i> Retention Limit - increased variability for early/late elutors. <br>\n",
    "<i>3.</i> Peak Width - sampling of chromatographic peak (low = inaccurate / high = coelution). <br>\n",
    "Others include: response linearity, peak shape, blank contribution, standard deviation.\n",
    "</font>"
   ]
  },
  {
   "cell_type": "code",
   "execution_count": null,
   "metadata": {
    "collapsed": true
   },
   "outputs": [],
   "source": [
    "MSmatrixProcI <- MSmatrix; # select MS data\n",
    "#MSmatrixProcI <- MSmatrixProc; # select MS data\n",
    "\n",
    "MSfeatIDProc <- MSfeatID;mzValProc <- mzVal;rtValProc <- rtVal;pkWidthProc <- pkWidth;"
   ]
  },
  {
   "cell_type": "code",
   "execution_count": null,
   "metadata": {},
   "outputs": [],
   "source": [
    "print( paste0(\"number of MS features before filtration = \", dim(MSmatrixProcI)[2]) )"
   ]
  },
  {
   "cell_type": "code",
   "execution_count": null,
   "metadata": {
    "collapsed": true
   },
   "outputs": [],
   "source": [
    "### MINIMUM FRACTION (MF) FILTER ###"
   ]
  },
  {
   "cell_type": "code",
   "execution_count": null,
   "metadata": {
    "collapsed": true
   },
   "outputs": [],
   "source": [
    "#define parameters\n",
    "cGroupT <- as.factor(Metadata[, \"Class\"]); # class/group vector\n",
    "minFrac <- 50; # percent present within group \n",
    "minG <- 1; # number of groups\n",
    "thresD <- 0; # threshold re detection"
   ]
  },
  {
   "cell_type": "code",
   "execution_count": null,
   "metadata": {},
   "outputs": [],
   "source": [
    "#run filter\n",
    "eTABLE <- round(table(cGroupT)*(minFrac/100),0); # expected numbers per class/group\n",
    "\n",
    "countM <- matrix(NA, nrow=dim(MSmatrix)[2], ncol=length(unique(cGroupT))); # count matrix\n",
    "countI <- matrix(1, nrow=dim(MSmatrix)[2], ncol=length(unique(cGroupT))); # binary matrix\n",
    "for (i in 1:dim(MSmatrix)[2]){\n",
    "    for (j in 1:length(unique(cGroupT))){\n",
    "        countM[i,j] = sum(MSmatrix[which(cGroupT == unique(cGroupT)[j]),i]>thresD)\n",
    "        if(countM[i,j]<eTABLE[j]){countI[i,j]=0}\n",
    "    }\n",
    "}\n",
    "\n",
    "MF_filter <- which( apply(countI,1,sum) >= minG )\n",
    "#length(MF_filter)"
   ]
  },
  {
   "cell_type": "code",
   "execution_count": null,
   "metadata": {},
   "outputs": [],
   "source": [
    "#remove MF features\n",
    "MSmatrixProcI <- MSmatrixProcI[,MF_filter];\n",
    "print( paste0(\"number of MS features after filter #1 = \", dim(MSmatrixProcI)[2]) )"
   ]
  },
  {
   "cell_type": "code",
   "execution_count": null,
   "metadata": {
    "collapsed": true
   },
   "outputs": [],
   "source": [
    "#remove MF descriptors\n",
    "MSfeatIDProc <- MSfeatIDProc[MF_filter]; # ID\n",
    "mzValProc <- mzValProc[MF_filter]; # MZ\n",
    "rtValProc <- rtValProc[MF_filter]; # RT\n",
    "pkWidthProc <- pkWidthProc[MF_filter]; # PW"
   ]
  },
  {
   "cell_type": "code",
   "execution_count": null,
   "metadata": {
    "collapsed": true
   },
   "outputs": [],
   "source": [
    "### RETENTION LIMIT (RL) FILTER ###"
   ]
  },
  {
   "cell_type": "code",
   "execution_count": null,
   "metadata": {},
   "outputs": [],
   "source": [
    "c(min(rtValProc), max(rtValProc)) # visualize RT range "
   ]
  },
  {
   "cell_type": "code",
   "execution_count": null,
   "metadata": {
    "collapsed": true
   },
   "outputs": [],
   "source": [
    "#define parameters\n",
    "rtLIM <- c(0.50, 9.50); # RT min/max (minutes)"
   ]
  },
  {
   "cell_type": "code",
   "execution_count": null,
   "metadata": {},
   "outputs": [],
   "source": [
    "#run filter\n",
    "RT_filter <- which(rtValProc>=rtLIM[1] & rtValProc<=rtLIM[2])\n",
    "#length(RT_filter)"
   ]
  },
  {
   "cell_type": "code",
   "execution_count": null,
   "metadata": {},
   "outputs": [],
   "source": [
    "#remove RL features\n",
    "MSmatrixProcI <- MSmatrixProcI[,RT_filter];\n",
    "print( paste0(\"number of MS features after filter #2 = \", dim(MSmatrixProcI)[2]) )"
   ]
  },
  {
   "cell_type": "code",
   "execution_count": null,
   "metadata": {
    "collapsed": true
   },
   "outputs": [],
   "source": [
    "#remove RL descriptors\n",
    "MSfeatIDProc <- MSfeatIDProc[RT_filter]; # ID\n",
    "mzValProc <- mzValProc[RT_filter]; # MZ\n",
    "rtValProc <- rtValProc[RT_filter]; # RT\n",
    "pkWidthProc <- pkWidthProc[RT_filter]; # PW"
   ]
  },
  {
   "cell_type": "code",
   "execution_count": null,
   "metadata": {
    "collapsed": true
   },
   "outputs": [],
   "source": [
    "### PEAK WIDTH (PW) FILTER ###"
   ]
  },
  {
   "cell_type": "code",
   "execution_count": null,
   "metadata": {},
   "outputs": [],
   "source": [
    "c(min(pkWidthProc), max(pkWidthProc)) # visualize PW range"
   ]
  },
  {
   "cell_type": "code",
   "execution_count": null,
   "metadata": {
    "collapsed": true
   },
   "outputs": [],
   "source": [
    "#define parameters\n",
    "pwLIM <- c(0.025, 0.500); # PW min/max (minutes)"
   ]
  },
  {
   "cell_type": "code",
   "execution_count": null,
   "metadata": {},
   "outputs": [],
   "source": [
    "#run filter\n",
    "PW_filter <- which(pkWidthProc>=pwLIM[1] & pkWidthProc<=pwLIM[2])\n",
    "#length(PW_filter)"
   ]
  },
  {
   "cell_type": "code",
   "execution_count": null,
   "metadata": {},
   "outputs": [],
   "source": [
    "#remove PW features\n",
    "MSmatrixProcI <- MSmatrixProcI[,PW_filter];\n",
    "print( paste0(\"number of MS features after filter #3 = \", dim(MSmatrixProcI)[2]) )"
   ]
  },
  {
   "cell_type": "code",
   "execution_count": null,
   "metadata": {
    "collapsed": true
   },
   "outputs": [],
   "source": [
    "#remove PW descriptors\n",
    "MSfeatIDProc <- MSfeatIDProc[PW_filter]; # ID\n",
    "mzValProc <- mzValProc[PW_filter]; # MZ\n",
    "rtValProc <- rtValProc[PW_filter]; # RT\n",
    "pkWidthProc <- pkWidthProc[PW_filter]; # PW"
   ]
  },
  {
   "cell_type": "markdown",
   "metadata": {},
   "source": [
    "<div class=\"alert alert-danger\" role=\"alert\" style=\"font-style:italic; font-size:13px\">\n",
    "<b>Note!</b> A combination of filters - all, one, none - can be empolyed before or after normalization.\n",
    "</div>"
   ]
  },
  {
   "cell_type": "markdown",
   "metadata": {},
   "source": [
    "<font style=\"color:#68829E; font-family:calibri; font-size:29px\">\n",
    "<b> *Normalization </b>\n",
    "</font>\n",
    "<br>\n",
    "<font style=\"color:black; font-family:calibri; font-size:15px\">\n",
    "Normalization algorithms try to account for systematic variations to overall concentations between samples/rows (comparability).<br>\n",
    "Examples include: CS = Constant Sum (Total Area), PQN = Probabilistic Quotient, MLR = Mean Log Ratio (Progenesis).\n",
    "</font>"
   ]
  },
  {
   "cell_type": "code",
   "execution_count": null,
   "metadata": {
    "collapsed": true
   },
   "outputs": [],
   "source": [
    "### RAW DATA ONLY ###\n",
    "\n",
    "pName <- MSsamID;pName # sample ID vector\n",
    "RefSpec <- \"A_LD_4\" # select reference (representative spectra)"
   ]
  },
  {
   "cell_type": "code",
   "execution_count": null,
   "metadata": {
    "collapsed": true
   },
   "outputs": [],
   "source": [
    "colnames(Metadata)\n",
    "Nfactor <- as.numeric(Metadata[, \"NormFactorMLR\"]);Nfactor\n",
    "\n",
    "#normalize to external vector\n",
    "MSmat <- MSmatrix;\n",
    "MSnorm <- MSmat*matrix(rep(Nfactor, times=dim(MSmat)[2]), nrow=dim(MSmat)[1], ncol=dim(MSmat)[2]);#MSnorm[1:5,1:5]"
   ]
  },
  {
   "cell_type": "code",
   "execution_count": null,
   "metadata": {
    "collapsed": true
   },
   "outputs": [],
   "source": [
    "MSmat <- MSmatrix;\n",
    "#MSmat <- MSmatrixProcI; # select MS data\n",
    "\n",
    "#calculate CS normalization (with/without standardization - reference)\n",
    "CSfactor <- median(apply(MSmat, 1, sum))/apply(MSmat, 1, sum);CSfactor \n",
    "CSfactor <- CSfactor/rep(CSfactor[grep(RefSpec, pName)], times=dim(MSmat)[1]);CSfactor\n",
    "\n",
    "MSnormCS <- MSmat*matrix(rep(CSfactor, times=dim(MSmat)[2]), nrow=dim(MSmat)[1], ncol=dim(MSmat)[2]);#MSnormCS[1:5,1:5]"
   ]
  },
  {
   "cell_type": "code",
   "execution_count": null,
   "metadata": {
    "collapsed": true
   },
   "outputs": [],
   "source": [
    "MSmat <- MSmatrix;\n",
    "#MSmat <- MSnormCS; # select MS data\n",
    "\n",
    "#calculate PQ normalization \n",
    "RefSam <- MSmat[grep(RefSpec, pName),]; # empirical reference\n",
    "#RefSam <- apply(MSmat, 2, median); # theoretical reference\n",
    "RefSam[RefSam == 0] <- 1e-04; # offset addition\n",
    "\n",
    "PQmat <- MSmat/matrix(rep(RefSam, each=dim(MSmat)[1]), nrow=dim(MSmat)[1], ncol=dim(MSmat)[2]);\n",
    "PQfactor <- 1/apply(PQmat, 1, median);PQfactor\n",
    "\n",
    "MSnormPQ <- MSmat*matrix(rep(PQfactor, times=dim(MSmat)[2]), nrow=dim(MSmat)[1], ncol=dim(MSmat)[2]);#MSnormPQ[1:5,1:5]"
   ]
  },
  {
   "cell_type": "code",
   "execution_count": null,
   "metadata": {
    "collapsed": true
   },
   "outputs": [],
   "source": [
    "MSmat <- MSmatrix;\n",
    "#MSmat <- MSnormCS; # select MS data\n",
    "\n",
    "#estimate MLR normalization\n",
    "RefSam <- MSmat[grep(RefSpec, pName),]; # empirical reference\n",
    "#RefSam <- apply(MSmat, 2, median); # theoretical reference\n",
    "RefSam[RefSam == 0] <- 1e-04; # offset addition\n",
    "\n",
    "MLRmat <- MSmat/matrix(rep(RefSam, each=dim(MSmat)[1]), nrow=dim(MSmat)[1], ncol=dim(MSmat)[2]);\n",
    "MLRmat[MLRmat == 0] <- 1;\n",
    "MLRmat <- log10(MLRmat);#MLRmat[1:5,1:5]\n",
    "\n",
    "UppLim <- apply(MLRmat, 1, median) + (3 * (1.4826*apply(MLRmat, 1, mad))); # upper limit\n",
    "LowLim <- apply(MLRmat, 1, median) - (3 * (1.4826*apply(MLRmat, 1, mad))); # lower limit\n",
    "for (i in 1:dim(MSmat)[1]){\n",
    "    #MLRmat[i, which(MLRmat[i,] > UppLim[i] | MLRmat[i,] < LowLim[i])] <- 0; # mask outliers\n",
    "    MLRmat[i, which(MLRmat[i,] > UppLim[i] | MLRmat[i,] < LowLim[i])] <- NA; # mask outliers\n",
    "}\n",
    "\n",
    "#apply(MLRmat, 1, sd)\n",
    "#MLRfactor <- 1/(10^apply(MLRmat, 1, mean));MLRfactor\n",
    "MLRfactor <- 1/(10^apply(MLRmat, 1, mean, na.rm=TRUE));MLRfactor\n",
    "\n",
    "MSnormMLR <- MSmat*matrix(rep(MLRfactor, times=dim(MSmat)[2]), nrow=dim(MSmat)[1], ncol=dim(MSmat)[2]);#MSnormMLR[1:5,1:5]"
   ]
  },
  {
   "cell_type": "markdown",
   "metadata": {},
   "source": [
    "<font style=\"color:#68829E; font-family:calibri; font-size:29px\">\n",
    "<b> Missing Value Imputation </b>\n",
    "</font>\n",
    "<br>\n",
    "<font style=\"color:black; font-family:calibri; font-size:15px\">\n",
    "MS data is prone to missing values - a topic that ranges in complexity. <br> \n",
    "For simplicity, a standard approach is to take a proxy for the limit of detection (half of minimum) and treat everything the same. Advanced approaches exist that may be applicable also - k-nearest neighbor (kNN), random forest (RF), single value decomposition (SVD) - but care should be taken not to introduce bias.\n",
    "</font>"
   ]
  },
  {
   "cell_type": "code",
   "execution_count": null,
   "metadata": {},
   "outputs": [],
   "source": [
    "#print message re missing values ('0')\n",
    "paste0( sum(apply(MSmatrix, 2, function(x){sum(x==0)})), \" / \", (dim(MSmatrix)[1]*dim(MSmatrix)[2]) )\n",
    "#paste0( sum(apply(MSmatrixProcI, 2, function(x){sum(x==0)})), \" / \", (dim(MSmatrixProcI)[1]*dim(MSmatrixProcI)[2]) )"
   ]
  },
  {
   "cell_type": "code",
   "execution_count": null,
   "metadata": {},
   "outputs": [],
   "source": [
    "#find minimum intensity (real/non-zero)\n",
    "LOD <- min(min(MSmatrix[MSmatrix!=0]));\n",
    "LOD"
   ]
  },
  {
   "cell_type": "code",
   "execution_count": null,
   "metadata": {},
   "outputs": [],
   "source": [
    "#find & replace 'missing' (half of minimum)\n",
    "MSmatrixProcII <- MSmatrixProcI;\n",
    "MSmatrixProcII[MSmatrixProcII==0] <- (LOD/2);\n",
    "\n",
    "dim(MSmatrixProcII)"
   ]
  },
  {
   "cell_type": "code",
   "execution_count": null,
   "metadata": {
    "collapsed": true
   },
   "outputs": [],
   "source": [
    "#save result as new '.CSV' (MVAPACK)\n",
    "#write.table(rbind(t(Metadata),t(MSmatrixProcII)),\"met_proc1.csv\",sep=\",\",col.names=F,row.names=T);\n",
    "write.table(rbind(t(Metadata),format(t(MSmatrixProcII),scientific=F)),\"met_proc1.csv\",sep=\",\",col.names=F,row.names=T);\n",
    "#list.files(path=\".\", pattern=\".csv\")"
   ]
  },
  {
   "cell_type": "markdown",
   "metadata": {},
   "source": [
    "<font style=\"color:#68829E; font-family:calibri; font-size:29px\">\n",
    "<b> Principal Component Analysis </b>\n",
    "</font>\n",
    "<br>\n",
    "<font style=\"color:black; font-family:calibri; font-size:15px\">\n",
    "Unsupervised dimensionality reduction of MS data is valuable for exploration - outlier detection (acquisition, contamination, etc), trends to associated Metadata (batch / runorder), quality with tight clustering of reference data (QC or Controls).\n",
    "</font>"
   ]
  },
  {
   "cell_type": "code",
   "execution_count": null,
   "metadata": {},
   "outputs": [],
   "source": [
    "MSmat <- MSmatrixProcII; # select MS data\n",
    "pName <- MSsamID; # sample ID vector\n",
    "\n",
    "dim(MSmat)\n",
    "colnames(Metadata)"
   ]
  },
  {
   "cell_type": "code",
   "execution_count": null,
   "metadata": {
    "collapsed": true
   },
   "outputs": [],
   "source": [
    "#cGroupT <- cGroup; \n",
    "cGroupT <- as.factor(Metadata[, \"Batch\"]);\n",
    "rOrderT <- as.numeric(Metadata[, \"RunOrder\"]);"
   ]
  },
  {
   "cell_type": "code",
   "execution_count": null,
   "metadata": {},
   "outputs": [],
   "source": [
    "#MSmat <- MSmat[grep(\"QC\",pName),];cGroupT <- cGroupT[grep(\"QC\",pName)];rOrderT <- rOrderT[grep(\"QC\",pName)]; # subset QC\n",
    "\n",
    "#m2 <- pca(MSmat, method=\"ppca\", nPcs=2, scale=\"uv\", center=TRUE);m2\n",
    "m1 <- prcomp(MSmat, rank=2, scale=TRUE, center=TRUE);summary(m1)\n",
    "\n",
    "#VarExp <- round(m2@R2[1:2]*100, 2);VarExp\n",
    "VarExp <- round((m1$sdev^2/sum(m1$sdev^2))[1:2]*100, 2);#VarExp"
   ]
  },
  {
   "cell_type": "code",
   "execution_count": null,
   "metadata": {
    "collapsed": true
   },
   "outputs": [],
   "source": [
    "#ggdata <- data.frame(m2@scores[,1:2], Class=cGroupT);head(ggdata)\n",
    "ggdata <- data.frame(m1$x[,1:2], Class=cGroupT);#head(ggdata)\n",
    "\n",
    "#ggdata <- ggdata[grep(\"QC\",pName),];head(ggdata) # subset QC"
   ]
  },
  {
   "cell_type": "code",
   "execution_count": null,
   "metadata": {},
   "outputs": [],
   "source": [
    "dis_palette <- c(\"#1f77b4\",\"#ff7f0e\",\"#2ca02c\",\"#d62728\",\"#9467bd\",\"#8c564b\",\"#e377c2\") # discrete \n",
    "\n",
    "p1 <- ggplot(ggdata) + \n",
    "    geom_point(aes(x=PC1, y=PC2, color=factor(Class)), size=5, shape=20) +\n",
    "    geom_text(aes(x=PC1, y=PC2, label=row.names(ggdata)), size=2.5, fontface=\"bold.italic\") +\n",
    "    geom_hline(yintercept=0, color=\"black\", size=0.5) + geom_vline(xintercept=0, color=\"black\", size=0.5) +\n",
    "    labs(x = paste0(\"PC1: \",VarExp[1],\"%\"), y = paste0(\"PC2: \",VarExp[2], \"%\")) +\n",
    "    stat_ellipse(aes(x=PC1,y=PC2,fill=factor(Class)), geom=\"polygon\", level=0.95, alpha=0.2) +\n",
    "    scale_color_manual(values = dis_palette) + scale_fill_manual(values = dis_palette) +\n",
    "    guides(color=guide_legend(title=\"Factor\"), fill=guide_legend(title=\"Factor\")) +\n",
    "    theme(axis.title=element_text(face=\"bold\", size=9), axis.text=element_text(size=8),\n",
    "         legend.title=element_text(face=\"italic\", size=9), legend.position=\"top\", legend.text=element_text(size=8)\n",
    "    )\n",
    "p1"
   ]
  },
  {
   "cell_type": "code",
   "execution_count": null,
   "metadata": {
    "collapsed": true
   },
   "outputs": [],
   "source": [
    "#ggdata <- data.frame(m2@scores[,1:2], Class=rOrderT);head(ggdata)\n",
    "ggdata <- data.frame(m1$x[,1:2], Class=rOrderT);#head(ggdata)\n",
    "\n",
    "#ggdata <- ggdata[grep(\"QC\",pName),];head(ggdata) # subset QC"
   ]
  },
  {
   "cell_type": "code",
   "execution_count": null,
   "metadata": {},
   "outputs": [],
   "source": [
    "con_palette <- cm.colors(length(unique(ggdata$Class))) # continuous\n",
    "\n",
    "p2 <- ggplot(ggdata) + \n",
    "    geom_point(aes(x=PC1, y=PC2, color=factor(Class)), size=5, shape=20) +\n",
    "    geom_text(aes(x=PC1, y=PC2, label=row.names(ggdata)), size=2.5, fontface=\"bold.italic\") +\n",
    "    geom_hline(yintercept=0, color=\"black\", size=0.5) + geom_vline(xintercept=0, color=\"black\", size=0.5) +\n",
    "    xlim(layer_scales(p1)$x$range$range) + ylim(layer_scales(p1)$y$range$range) +\n",
    "    labs(x = paste0(\"PC1: \",VarExp[1],\"%\"), y = paste0(\"PC2: \",VarExp[2], \"%\")) +\n",
    "    #stat_ellipse(aes(x=PC1,y=PC2,fill=factor(Class)), geom=\"polygon\", level=0.95, alpha=0.2) +\n",
    "    scale_color_manual(values = con_palette) + scale_fill_manual(values = con_palette) +\n",
    "    guides(color=guide_legend(title=\"Factor\", nrow=1)) +\n",
    "    theme(axis.title=element_text(face=\"bold\", size=9), axis.text=element_text(size=8),\n",
    "         legend.title=element_text(face=\"italic\", size=9), legend.position=\"top\", legend.text=element_text(size=5)\n",
    "    )\n",
    "p2"
   ]
  },
  {
   "cell_type": "markdown",
   "metadata": {},
   "source": [
    "<font style=\"color:#68829E; font-family:calibri; font-size:29px\">\n",
    "<b> *Correction Methods </b>\n",
    "</font>\n",
    "<br>\n",
    "<font style=\"color:black; font-family:calibri; font-size:15px\">\n",
    "MS data can be susceptible to orthogonal structures (to interest), associated to sample preparation and data acquisition, which need to be removed prior to statistical modelling (univariate or multivariate). <br>\n",
    "A range of mathematical procedures exist - linear vs loess / mean vs median - using reference samples or all samples, QC vs Background, respectively. Estimations of such structures (correction factor) can be a single scalar representative of all features or combined vector representative of each feature. \n",
    "</font>"
   ]
  },
  {
   "cell_type": "code",
   "execution_count": null,
   "metadata": {},
   "outputs": [],
   "source": [
    "MSmat <- MSmatrixProcII; # select MS data\n",
    "pName <- MSsamID; # sample ID vector\n",
    "\n",
    "dim(MSmat)"
   ]
  },
  {
   "cell_type": "code",
   "execution_count": null,
   "metadata": {},
   "outputs": [],
   "source": [
    "#define MODEL (QC) set\n",
    "#rowIndexIM <- grep(\"QC\",pName); # only QC\n",
    "rowIndexIM <- c(1:dim(MSmat)[1]); # sample & QC\n",
    "\n",
    "GRP <- c(\"LD\",\"HD\");\n",
    "rowIndexIM <- NULL;\n",
    "for (i in 1:length(GRP)){rowIndexIM <- c(rowIndexIM,grep(GRP[i],pName))}\n",
    "\n",
    "pName[rowIndexIM]"
   ]
  },
  {
   "cell_type": "code",
   "execution_count": null,
   "metadata": {},
   "outputs": [],
   "source": [
    "#structure MODEL (QC) data & classes & order\n",
    "MSmatIM <- MSmat[rowIndexIM,];\n",
    "\n",
    "cGroupIM <- Metadata[rowIndexIM, \"Batch\"];cGroupIM\n",
    "cGroupIM[grep(\"HD\",pName[rowIndexIM])] <- 2;cGroupIM <- as.factor(cGroupIM);cGroupIM\n",
    "#cGroupIM <- as.factor(Metadata[rowIndexIM, \"Batch\"]);cGroupIM\n",
    "rOrderIM <- as.numeric(Metadata[rowIndexIM, \"RunOrder\"]);rOrderIM \n",
    "\n",
    "#NewM <- model.matrix(~0+cGroupIM);NewM"
   ]
  },
  {
   "cell_type": "code",
   "execution_count": null,
   "metadata": {
    "collapsed": true
   },
   "outputs": [],
   "source": [
    "#confirm MODEL (QC) data & classes & order\n",
    "IMmat <- MSmatIM;\n",
    "IMbat <- cGroupIM;\n",
    "IMrun <- rOrderIM;\n",
    "#clsDM <- NewM;"
   ]
  },
  {
   "cell_type": "code",
   "execution_count": null,
   "metadata": {},
   "outputs": [],
   "source": [
    "#define POPULATION (SAM) set\n",
    "rowIndexIC <- c(1:dim(MSmat)[1]); # sample & QC\n",
    "\n",
    "pName[rowIndexIC]"
   ]
  },
  {
   "cell_type": "code",
   "execution_count": null,
   "metadata": {},
   "outputs": [],
   "source": [
    "#structure POPULATION (SAM) data & classes & order\n",
    "MSmatIC <- MSmat[rowIndexIC,];\n",
    "\n",
    "cGroupIC <- Metadata[rowIndexIC, \"Batch\"];cGroupIC\n",
    "cGroupIC[grep(\"HD\",pName[rowIndexIC])] <- 2;cGroupIC <- as.factor(cGroupIC);cGroupIC\n",
    "#cGroupIC <- as.factor(Metadata[rowIndexIC, \"Batch\"]);cGroupIC\n",
    "rOrderIC <- as.numeric(Metadata[rowIndexIC, \"RunOrder\"]);rOrderIC \n",
    "\n",
    "#NewM <- model.matrix(~0+cGroupIC);NewM"
   ]
  },
  {
   "cell_type": "code",
   "execution_count": null,
   "metadata": {
    "collapsed": true
   },
   "outputs": [],
   "source": [
    "#confirm POPULATION (SAM) data & classes & order\n",
    "ICmat <- MSmatIC;\n",
    "ICbat <- cGroupIC;\n",
    "ICrun <- rOrderIC;\n",
    "#clsDC <- NewM;"
   ]
  },
  {
   "cell_type": "code",
   "execution_count": null,
   "metadata": {},
   "outputs": [],
   "source": [
    "m1 <- prcomp(ICmat, rank=2, scale=TRUE, center=TRUE);summary(m1)\n",
    "VarExp <- round((m1$sdev^2/sum(m1$sdev^2))[1:2]*100, 2);#VarExp\n",
    "ggdata <- data.frame(m1$x[,1:2], Class=ICbat);#head(ggdata)"
   ]
  },
  {
   "cell_type": "code",
   "execution_count": null,
   "metadata": {},
   "outputs": [],
   "source": [
    "dis_palette <- c(\"#1f77b4\",\"#ff7f0e\",\"#2ca02c\",\"#d62728\",\"#9467bd\",\"#8c564b\",\"#e377c2\") # discrete \n",
    "\n",
    "p1 <- ggplot(ggdata) + \n",
    "    geom_point(aes(x=PC1, y=PC2, color=factor(Class)), size=5, shape=20) +\n",
    "    geom_text(aes(x=PC1, y=PC2, label=row.names(ggdata)), size=2.5, fontface=\"bold\") +\n",
    "    geom_hline(yintercept=0, color=\"black\", size=0.5) + geom_vline(xintercept=0, color=\"black\", size=0.5) +\n",
    "    labs(x = paste0(\"PC1: \",VarExp[1],\"%\"), y = paste0(\"PC2: \",VarExp[2], \"%\")) +\n",
    "    stat_ellipse(aes(x=PC1,y=PC2,fill=factor(Class)), geom=\"polygon\", level=0.95, alpha=0.2) +\n",
    "    scale_color_manual(values = dis_palette) + scale_fill_manual(values = dis_palette) +\n",
    "    guides(color=guide_legend(title=\"Class\"), fill=guide_legend(title=\"Class\")) +\n",
    "    theme(axis.title=element_text(face=\"bold\", size=9), axis.text=element_text(size=8),\n",
    "         legend.title=element_text(face=\"italic\", size=9), legend.position=\"top\", legend.text=element_text(size=8)\n",
    "    )\n",
    "p1"
   ]
  },
  {
   "cell_type": "code",
   "execution_count": null,
   "metadata": {
    "collapsed": true
   },
   "outputs": [],
   "source": [
    "### EXAMPLE CORRECTION I - SINGLE SCALAR BATCH (RATIO) ###"
   ]
  },
  {
   "cell_type": "code",
   "execution_count": null,
   "metadata": {
    "collapsed": true
   },
   "outputs": [],
   "source": [
    "#method = INAPPROPRIATE (check PCA -> no change in MODEL or POPULATION)\n",
    "\n",
    "OMmat = IMmat; # corrected MODEL\n",
    "OCmat = ICmat; # corrected POPULATION\n",
    "\n",
    "#xFitM = apply(IMmat,1,sum);xFitC = apply(ICmat,1,sum); # summed int (MODEL & POPULATION)\n",
    "xFitM = apply(IMmat,1,median);xFitC = apply(ICmat,1,median); # median int (MODEL & POPULATION)\n",
    "#xFitM = apply(IMmat,1,mean);xFitC = apply(ICmat,1,mean); # mean int (MODEL & POPULATION)\n",
    "\n",
    "dfM = data.frame(y=xFitM, r=IMrun, b=IMbat);#head(dfM)\n",
    "dfC = data.frame(y=xFitC, r=ICrun, b=ICbat);#head(dfC)\n",
    "\n",
    "m1M = lm(y~1+b, data=dfM);m1Ms = summary(m1M);#print(m1M) # build MODEL model\n",
    "#m1C = lm(y~1+b, data=dfC);m1Cs = summary(m1C);#print(m1Cs) # build POPULATION model\n",
    " \n",
    "#mFitM = m1M$fitted.values;mFitC = m1C$fitted.values; # 'extract' (MODEL & POPULATION)\n",
    "mFitM = predict(m1M, dfM);mFitC = predict(m1M, dfC); # 'predict' (MODEL & POPULATION)\n",
    "\n",
    "#mFitM = rep(0, times=dim(IMmat)[1]);mFitC = rep(0, times=dim(ICmat)[1]);\n",
    "#for (i in 1:length(unique(dfM$b))){\n",
    "#    #p = mean(dfM$y[which(dfM$b==unique(dfM$b)[i])]);#p\n",
    "#    p = median(dfM$y[which(dfM$b==unique(dfM$b)[i])]);#p\n",
    "#    mFitM[which(dfM$b==unique(dfM$b)[i])] = p;mFitC[which(dfC$b==unique(dfM$b)[i])] = p;\n",
    "#}\n",
    "\n",
    "pRefM = median(xFitM)/mFitM;pRefC = median(xFitM)/mFitC;\n",
    "\n",
    "OMmat = OMmat*matrix(rep(pRefM, times=dim(OMmat)[2]), nrow=dim(OMmat)[1], ncol=dim(OMmat)[2]) \n",
    "OCmat = OCmat*matrix(rep(pRefC, times=dim(OCmat)[2]), nrow=dim(OCmat)[1], ncol=dim(OCmat)[2]) "
   ]
  },
  {
   "cell_type": "code",
   "execution_count": null,
   "metadata": {},
   "outputs": [],
   "source": [
    "m1 <- prcomp(OCmat, rank=2, scale=TRUE, center=TRUE);summary(m1)\n",
    "VarExp <- round((m1$sdev^2/sum(m1$sdev^2))[1:2]*100, 2);#VarExp\n",
    "ggdata <- data.frame(m1$x[,1:2], Class=ICbat);#head(ggdata)"
   ]
  },
  {
   "cell_type": "code",
   "execution_count": null,
   "metadata": {},
   "outputs": [],
   "source": [
    "dis_palette <- c(\"#1f77b4\",\"#ff7f0e\",\"#2ca02c\",\"#d62728\",\"#9467bd\",\"#8c564b\",\"#e377c2\") # discrete \n",
    "\n",
    "p2 <- ggplot(ggdata) + \n",
    "    geom_point(aes(x=PC1, y=PC2, color=factor(Class)), size=5, shape=20) +\n",
    "    geom_text(aes(x=PC1, y=PC2, label=row.names(ggdata)), size=2.5, fontface=\"bold\") +\n",
    "    geom_hline(yintercept=0, color=\"black\", size=0.5) + geom_vline(xintercept=0, color=\"black\", size=0.5) +\n",
    "    labs(x = paste0(\"PC1: \",VarExp[1],\"%\"), y = paste0(\"PC2: \",VarExp[2], \"%\")) +\n",
    "    stat_ellipse(aes(x=PC1,y=PC2,fill=factor(Class)), geom=\"polygon\", level=0.95, alpha=0.2) +\n",
    "    scale_color_manual(values = dis_palette) + scale_fill_manual(values = dis_palette) +\n",
    "    guides(color=guide_legend(title=\"Class\"), fill=guide_legend(title=\"Class\")) +\n",
    "    theme(axis.title=element_text(face=\"bold\", size=9), axis.text=element_text(size=8),\n",
    "         legend.title=element_text(face=\"italic\", size=9), legend.position=\"top\", legend.text=element_text(size=8)\n",
    "    )\n",
    "p2"
   ]
  },
  {
   "cell_type": "code",
   "execution_count": null,
   "metadata": {
    "collapsed": true
   },
   "outputs": [],
   "source": [
    "### EXAMPLE CORRECTION II - COMBINED VECTOR BATCH (RATIO) ###"
   ]
  },
  {
   "cell_type": "code",
   "execution_count": null,
   "metadata": {
    "collapsed": true
   },
   "outputs": [],
   "source": [
    "#method = APPROPRIATE (check PCA -> change in MODEL and POPULATION)\n",
    "\n",
    "OMmat = IMmat; # corrected MODEL\n",
    "OCmat = ICmat; # corrected POPULATION\n",
    "\n",
    "for (k in 1:dim(IMmat)[2]){\n",
    "    \n",
    "    xFitM = IMmat[,k]; # MODEL int\n",
    "    xFitC = ICmat[,k]; # POPULATION int\n",
    "\n",
    "    dfM = data.frame(y=xFitM, r=IMrun, b=IMbat);#head(dfM)\n",
    "    dfC = data.frame(y=xFitC, r=ICrun, b=ICbat);#head(dfC)\n",
    "\n",
    "    m1M = lm(y~1+b, data=dfM);m1Ms = summary(m1M);#print(m1M) # build MODEL model\n",
    "    #m1C = lm(y~1+b, data=dfC);m1Cs = summary(m1C);#print(m1Cs) # build POPULATION model\n",
    "    \n",
    "        #m1M = lm(y~1+r*b, data=dfM);m1Ms = summary(m1M);#print(m1M)\n",
    "        #m1C = lm(y~1+r*b, data=dfC);m1Cs = summary(m1C);#print(m1Cs)\n",
    "    \n",
    "    #mFitM = m1M$fitted.values;#mFitC = m1C$fitted.values; # 'extract' (MODEL & POPULATION)\n",
    "    mFitM = predict(m1M, dfM);mFitC = predict(m1M, dfC); # 'predict' (MODEL & POPULATION)\n",
    "\n",
    "    sFitM = (xFitM/mFitM)*median(xFitM);sFitC = (xFitC/mFitC)*median(xFitM); # 'correct' (MODEL & POPULATION)\n",
    "    OMmat[,k] = sFitM;OCmat[,k] = sFitC; # 'replace' (MODEL & POPULATION)\n",
    "    \n",
    "}"
   ]
  },
  {
   "cell_type": "code",
   "execution_count": null,
   "metadata": {},
   "outputs": [],
   "source": [
    "m1 <- prcomp(OCmat, rank=2, scale=TRUE, center=TRUE);summary(m1)\n",
    "VarExp <- round((m1$sdev^2/sum(m1$sdev^2))[1:2]*100, 2);#VarExp\n",
    "ggdata <- data.frame(m1$x[,1:2], Class=ICbat);#head(ggdata)"
   ]
  },
  {
   "cell_type": "code",
   "execution_count": null,
   "metadata": {},
   "outputs": [],
   "source": [
    "dis_palette <- c(\"#1f77b4\",\"#ff7f0e\",\"#2ca02c\",\"#d62728\",\"#9467bd\",\"#8c564b\",\"#e377c2\") # discrete \n",
    "\n",
    "p2 <- ggplot(ggdata) + \n",
    "    geom_point(aes(x=PC1, y=PC2, color=factor(Class)), size=5, shape=20) +\n",
    "    geom_text(aes(x=PC1, y=PC2, label=row.names(ggdata)), size=2.5, fontface=\"bold\") +\n",
    "    geom_hline(yintercept=0, color=\"black\", size=0.5) + geom_vline(xintercept=0, color=\"black\", size=0.5) +\n",
    "    labs(x = paste0(\"PC1: \",VarExp[1],\"%\"), y = paste0(\"PC2: \",VarExp[2], \"%\")) +\n",
    "    stat_ellipse(aes(x=PC1,y=PC2,fill=factor(Class)), geom=\"polygon\", level=0.95, alpha=0.2) +\n",
    "    scale_color_manual(values = dis_palette) + scale_fill_manual(values = dis_palette) +\n",
    "    guides(color=guide_legend(title=\"Class\"), fill=guide_legend(title=\"Class\")) +\n",
    "    theme(axis.title=element_text(face=\"bold\", size=9), axis.text=element_text(size=8),\n",
    "         legend.title=element_text(face=\"italic\", size=9), legend.position=\"top\", legend.text=element_text(size=8))\n",
    "\n",
    "p2"
   ]
  },
  {
   "cell_type": "code",
   "execution_count": null,
   "metadata": {
    "collapsed": true
   },
   "outputs": [],
   "source": [
    "#visualize FITS ... ?"
   ]
  },
  {
   "cell_type": "code",
   "execution_count": null,
   "metadata": {},
   "outputs": [],
   "source": [
    "MSmatrixProcIII <- OCmat;\n",
    "dim(MSmatrixProcIII)"
   ]
  },
  {
   "cell_type": "code",
   "execution_count": null,
   "metadata": {
    "collapsed": true
   },
   "outputs": [],
   "source": [
    "#save result as new '.CSV' (CORRECTED)\n",
    "#write.table(rbind(t(Metadata),t(MSmatrixProcIII)),\"met_proc2.csv\",sep=\",\",col.names=F,row.names=T);\n",
    "write.table(rbind(t(Metadata),format(t(MSmatrixProcIII),scientific=F)),\"met_proc2.csv\",sep=\",\",col.names=F,row.names=T);\n",
    "#list.files(path=\".\", pattern=\".csv\")"
   ]
  },
  {
   "cell_type": "markdown",
   "metadata": {},
   "source": [
    "<div class=\"alert alert-danger\" role=\"alert\" style=\"font-style:italic; font-size:13px\">\n",
    "<b>Note!</b> Correction to reference (QC) samples is less susceptible to overfitting and more reproducible in future studies (*that is, if required at all).\n",
    "</div>"
   ]
  },
  {
   "cell_type": "markdown",
   "metadata": {},
   "source": [
    "<font style=\"color:#68829E; font-family:calibri; font-size:29px\">\n",
    "<b> Coefficient of Variation </b>\n",
    "</font>\n",
    "<br>\n",
    "<font style=\"color:black; font-family:calibri; font-size:15px\">\n",
    "An important measure of data quality is precision, perceived by variation in reference data (QC or Controls), as the coefficient of variation (CV) or residual standard deviation (RSD) - standard deviation/mean - against an acceptance criteria (15-30%). <br> Other metrics include median absolute deviation (MAD), dispersion ratio (D-ratio), intra-class correlation (ICC).\n",
    "</font>"
   ]
  },
  {
   "cell_type": "code",
   "execution_count": null,
   "metadata": {
    "collapsed": true
   },
   "outputs": [],
   "source": [
    "MSmat <- MSmatrixProcII; # select MS data\n",
    "#MSmat <- MSmatrixProcIII; # select MS data\n",
    "pName <- MSsamID; # sample ID vector\n",
    "\n",
    "dim(MSmat)"
   ]
  },
  {
   "cell_type": "code",
   "execution_count": null,
   "metadata": {
    "collapsed": true
   },
   "outputs": [],
   "source": [
    "#define parameters\n",
    "CVthres <- 30; # 'acceptance' threshold (%)\n",
    "CVlimit <- 100; # visualization limit (%)"
   ]
  },
  {
   "cell_type": "code",
   "execution_count": null,
   "metadata": {
    "collapsed": true
   },
   "outputs": [],
   "source": [
    "rowIndex <- grep(\"QC\",pName);rowIndex # only QC\n",
    "#rowIndex <- c(1:dim(Metadata)[1]); # sample & QC\n",
    "\n",
    "MSmat <- MSmat[rowIndex,];"
   ]
  },
  {
   "cell_type": "code",
   "execution_count": null,
   "metadata": {
    "collapsed": true
   },
   "outputs": [],
   "source": [
    "#calculate CV (feature by feature)\n",
    "CV <- ( apply(MSmat,2,sd) / apply(MSmat,2,mean) ) * 100;\n",
    "c(min(CV), max(CV))"
   ]
  },
  {
   "cell_type": "code",
   "execution_count": null,
   "metadata": {
    "collapsed": true
   },
   "outputs": [],
   "source": [
    "CV2 <- CV;\n",
    "#CV2 <- abs(CV);\n",
    "CV2[CV2>CVlimit] <- CVlimit; # mask outliers\n",
    "#CV2[is.na(CV)==1] <- CVlimit; # mask NAs\n",
    "\n",
    "CV_filter <- which(CV2<=CVthres);length(CV_filter)"
   ]
  },
  {
   "cell_type": "code",
   "execution_count": null,
   "metadata": {
    "collapsed": true
   },
   "outputs": [],
   "source": [
    "#structure data.frame for ggplot2\n",
    "plot.m <- data.frame(x=mzValProc, y=rtValProc, z=CV2);\n",
    "head(plot.m)"
   ]
  },
  {
   "cell_type": "code",
   "execution_count": null,
   "metadata": {
    "collapsed": true
   },
   "outputs": [],
   "source": [
    "p1 <- HeatmapCV(plot.m);\n",
    "p1"
   ]
  },
  {
   "cell_type": "code",
   "execution_count": null,
   "metadata": {
    "collapsed": true
   },
   "outputs": [],
   "source": [
    "HeatmapCV <- function(plot.m){\n",
    "    \n",
    "    matlab_palette <- c(\"#0000AA\",\"#0040FF\",\"#0080FF\",\"#40BFFF\",\"#80FFFF\",\"#BFFFBF\",\"#FFFF80\",\"#FFBF40\",\"#FF8000\",\"#FF4000\",\"#AA0000\")\n",
    "    mzby <- 100;rtby <- 1;\n",
    "    \n",
    "    p1 <- ggplot(data=plot.m, aes(x=x, y=y, color=z)) + \n",
    "    geom_point(size=2) +\n",
    "    geom_hline(yintercept=0, size=0.50, linetype=2) + geom_vline(xintercept=0, size=0.5, linetype=2)+\n",
    "    scale_color_gradientn(colors=(matlab_palette), limits=c(0,max(plot.m$z)), name=\"CV\", na.value=\"gray90\")+ #\"RdYlGn\"\n",
    "    scale_y_continuous(limits=c(0,round(max(plot.m$y),-1)), breaks=seq(from=0,to=round(max(plot.m$y),-1), by=rtby)) +\n",
    "    scale_x_continuous(limits=c(0,round(max(plot.m$x),-1)), breaks=seq(from=0,to=round(max(plot.m$x),-1), by=mzby)) +\n",
    "    labs(x=\"Mass (m/z)\", y=\"RT (min)\", color=\"CV\") + coord_fixed(ratio = 75) +\n",
    "    guides(color = guide_colorbar(title.position=\"top\", title.hjust = 0.50)) +\n",
    "    theme(axis.title=element_text(face=\"bold\", size=9), axis.text=element_text(size=8),\n",
    "          legend.title=element_text(face=\"italic\", size=9), legend.text=element_text(size=7),\n",
    "          legend.position=\"bottom\",\n",
    "          legend.key.width = unit(3, \"cm\"),\n",
    "          axis.line = element_blank()\n",
    "    )\n",
    "    return(p1)\n",
    "    \n",
    "}"
   ]
  },
  {
   "cell_type": "code",
   "execution_count": null,
   "metadata": {
    "collapsed": true
   },
   "outputs": [],
   "source": [
    "#remove CV features\n",
    "MSmatrixProcIV <- MSmat[,CV_filter];\n",
    "dim(MSmatrixProcIV)"
   ]
  },
  {
   "cell_type": "code",
   "execution_count": null,
   "metadata": {
    "collapsed": true
   },
   "outputs": [],
   "source": [
    "#remove CV descriptors\n",
    "MSfeatIDProcFin <- MSfeatIDProc[CV_filter]; # ID\n",
    "mzValProcFin <- mzValProc[CV_filter]; # MZ\n",
    "rtValProcFin <- rtValProc[CV_filter]; # RT\n",
    "pkWidthProcFin <- pkWidthProc[CV_filter]; # PW"
   ]
  },
  {
   "cell_type": "markdown",
   "metadata": {},
   "source": [
    "<div class=\"alert alert-danger\" role=\"alert\" style=\"font-style:italic; font-size:13px\">\n",
    "<b>XXX!</b> XXX.\n",
    "</div>"
   ]
  },
  {
   "cell_type": "markdown",
   "metadata": {},
   "source": [
    "<font style=\"color:#68829E; font-family:calibri; font-size:29px\">\n",
    "<b> Correlation Coefficients </b>\n",
    "</font>\n",
    "<br>\n",
    "<font style=\"color:black; font-family:calibri; font-size:15px\">\n",
    "Correlation across columns/features (STOCSY) may assist compound identification, that is, structural (within) & biological (between) collinearity, while across rows/samples may reveal possible clusters. <br>\n",
    "Reliability in coefficients will depend on various factors (linearity, outliers, groups) and ideally require confidence through simulations/permutations.\n",
    "</font>"
   ]
  },
  {
   "cell_type": "code",
   "execution_count": null,
   "metadata": {
    "collapsed": true
   },
   "outputs": [],
   "source": [
    "MSmat <- MSmatrixProcII; # select MS data\n",
    "#MSmat <- MSmatrixProcIII; # select MS data\n",
    "pName <- MSsamID; # sample ID vector\n",
    "\n",
    "dim(MSmat)"
   ]
  },
  {
   "cell_type": "code",
   "execution_count": null,
   "metadata": {
    "collapsed": true
   },
   "outputs": [],
   "source": [
    "#rowIndex <- grep(\"QC\",MSsamID); # only QC\n",
    "rowIndex <- c(1:dim(Metadata)[1]); # sample & QC\n",
    "\n",
    "MSmat <- MSmat[rowIndex,];\n",
    "pName <- pName[rowIndex];"
   ]
  },
  {
   "cell_type": "code",
   "execution_count": null,
   "metadata": {
    "collapsed": true
   },
   "outputs": [],
   "source": [
    "#feature of interest \n",
    "driver <- \"9.48_121.0290\";\n",
    "driver_index <- grep(driver, MSfeatIDProc);\n",
    "\n",
    "MSfeatIDProc[driver_index]"
   ]
  },
  {
   "cell_type": "code",
   "execution_count": null,
   "metadata": {
    "collapsed": true
   },
   "outputs": [],
   "source": [
    "CS <- sapply(c(1:dim(MSmat)[2]), function(x){cor(MSmat[,driver_index], MSmat[,x], use=\"complete.obs\", method=\"pearson\")});\n",
    "#CS <- sapply(c(1:dim(MSmat)[2]), function(x){cor(MSmat[,driver_index], MSmat[,x], use=\"complete.obs\", method=\"spearman\")});"
   ]
  },
  {
   "cell_type": "code",
   "execution_count": null,
   "metadata": {
    "collapsed": true
   },
   "outputs": [],
   "source": [
    "#structure data.frame for ggplot2\n",
    "plot.m <- data.frame(x=c(1:dim(MSmat)[2]), y=CS, u=mzValProc, v=rtValProc);\n",
    "rownames(plot.m) <- MSfeatIDProc;\n",
    "head(plot.m)"
   ]
  },
  {
   "cell_type": "code",
   "execution_count": null,
   "metadata": {
    "collapsed": true
   },
   "outputs": [],
   "source": [
    "cThres <- 0.80; # 'acceptance' threshold (R)\n",
    "plot.m$c <- rep(\"High\", each=dim(MSmat)[2]);\n",
    "plot.m$c[which(abs(plot.m$y) < cThres)] <- \"Low\";"
   ]
  },
  {
   "cell_type": "code",
   "execution_count": null,
   "metadata": {
    "collapsed": true
   },
   "outputs": [],
   "source": [
    "p1 <- ggplot(data=plot.m, aes(x=x, y=y, color=c)) + \n",
    "    geom_point(size=1) + ggtitle(\"\") +\n",
    "    geom_hline(yintercept=(cThres*1), size=0.25, linetype=2) +\n",
    "    geom_hline(yintercept=(cThres*-1), size=0.25, linetype=2) +\n",
    "    labs(x=\"Features (Index)\", y=\"Correlation Coefficient (R)\", color=\"\") +\n",
    "    scale_color_manual(values=c(\"#FF0000\",\"#CCCCCC\")) +\n",
    "    scale_y_continuous(limits=c(-1,1), breaks=seq(from=-1,to=1,by=0.5)) +\n",
    "    theme(axis.title=element_text(face=\"bold\", size=9),\n",
    "          strip.text=element_text(face=\"italic\", size=8),\n",
    "          legend.position=\"top\",\n",
    "          axis.text=element_text(size=8))\n",
    "\n",
    "p1\n",
    "\n",
    "rownames(plot.m)[which(abs(plot.m$y) >= cThres)]"
   ]
  },
  {
   "cell_type": "code",
   "execution_count": null,
   "metadata": {
    "collapsed": true
   },
   "outputs": [],
   "source": [
    "#run simulations ... ? "
   ]
  },
  {
   "cell_type": "code",
   "execution_count": null,
   "metadata": {
    "collapsed": true
   },
   "outputs": [],
   "source": [
    "cor.test.p <- function(x){\n",
    "  FUN <- function(x, y) cor.test(x, y)[[3]]\n",
    "  z <- outer(colnames(x), colnames(x), \n",
    "    Vectorize(function(i,j) FUN(x[,i], x[,j]))\n",
    "  )\n",
    "  dimnames(z) <- list(colnames(x), colnames(x))\n",
    "  z\n",
    "}"
   ]
  },
  {
   "cell_type": "code",
   "execution_count": null,
   "metadata": {
    "collapsed": true
   },
   "outputs": [],
   "source": [
    "sessionInfo()"
   ]
  },
  {
   "cell_type": "markdown",
   "metadata": {},
   "source": [
    "<font style=\"color:black; font-family:calibri; font-size:15px\">\n",
    "<b><i>References</i></b> <br>\n",
    "</font>\n",
    "<font style=\"color:black; font-family:calibri; font-size:15px\">\n",
    "Software Carpentry: Our Lessons (<a href=\"https://software-carpentry.org/lessons/\">https://software-carpentry.org/lessons</a>) <br>\n",
    "Progenesis QI: User Guide  (<a href=\"www.nonlinear.com/progenesis/qi/v2.4/user-guide\">www.nonlinear.com/progenesis/qi/v2.4/user-guide</a>) <br>\n",
    "Galaxy Training Material: Metabolomics LC-MS Analysis (<a href=\"https://github.com/galaxyproject/training-material\">https://github.com/galaxyproject/training-material</a>) <br>\n",
    "National Phenome Centre: nPYc-toolbox-tutorials (<a href=\"https://github.com/phenomecentre/nPYc-toolbox-tutorials\">https://github.com/phenomecentre/nPYc-toolbox-tutorials</a>) <br>\n",
    "mQACC: Quality Control in Untargeted Metabolomics (<a href=\"https://epi.grants.cancer.gov/Consortia/mQACC\">https://epi.grants.cancer.gov/Consortia/mQACC</a>)\n",
    "</font>"
   ]
  },
  {
   "cell_type": "markdown",
   "metadata": {},
   "source": [
    "<font size=\"2\" color=\"black\" face=\"calibri\"> <b>\n",
    "MS Analysis with R: Progenesis Data <br>\n",
    "</b> </font>"
   ]
  }
 ],
 "metadata": {
  "kernelspec": {
   "display_name": "R 3.4",
   "language": "R",
   "name": "ir"
  },
  "language_info": {
   "codemirror_mode": "r",
   "file_extension": ".r",
   "mimetype": "text/x-r-source",
   "name": "R",
   "pygments_lexer": "r",
   "version": "3.4.1"
  }
 },
 "nbformat": 4,
 "nbformat_minor": 2
}
